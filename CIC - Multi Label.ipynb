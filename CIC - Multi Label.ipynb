{
 "cells": [
  {
   "cell_type": "code",
   "execution_count": 1,
   "metadata": {},
   "outputs": [],
   "source": [
    "%matplotlib inline\n",
    "import re\n",
    "import matplotlib\n",
    "import numpy as np\n",
    "import matplotlib.pyplot as plt\n",
    "import pandas as pd\n",
    "from sklearn.model_selection import train_test_split\n",
    "from sklearn.feature_extraction.text import TfidfVectorizer\n",
    "from sklearn.naive_bayes import MultinomialNB\n",
    "from sklearn.metrics import accuracy_score\n",
    "from sklearn.multiclass import OneVsRestClassifier\n",
    "from nltk.corpus import stopwords\n",
    "#stop_words = set(stopwords.words('english'))\n",
    "from sklearn.svm import LinearSVC\n",
    "from sklearn.linear_model import LogisticRegression\n",
    "from sklearn.pipeline import Pipeline\n",
    "import seaborn as sns\n",
    "\n",
    "stopwords_cust = stopwords.words('portuguese')\n",
    "\n",
    "df_swc = pd.read_excel('C:\\Users\\marcel.massa.LGE\\ML\\stop_words_customized.xlsx')\n",
    "df_swc.STOP_WORDS_CUSTOMIZED=df_swc.STOP_WORDS_CUSTOMIZED.str.normalize('NFKD').str.encode('ascii', errors='ignore').str.decode('utf-8').str.lower()\n",
    "for count in range (df_swc.shape[0]):\n",
    "    stopwords_cust.append(df_swc.STOP_WORDS_CUSTOMIZED[count])"
   ]
  },
  {
   "cell_type": "code",
   "execution_count": 2,
   "metadata": {
    "scrolled": false
   },
   "outputs": [],
   "source": [
    "df = pd.read_excel('C:\\\\Users\\\\marcel.massa.LGE\\\\ML\\\\train_multilabel.xlsx')"
   ]
  },
  {
   "cell_type": "code",
   "execution_count": null,
   "metadata": {
    "scrolled": false
   },
   "outputs": [],
   "source": [
    "df.head()"
   ]
  },
  {
   "cell_type": "code",
   "execution_count": 4,
   "metadata": {},
   "outputs": [
    {
     "name": "stdout",
     "output_type": "stream",
     "text": [
      "<class 'pandas.core.frame.DataFrame'>\n",
      "RangeIndex: 1979 entries, 0 to 1978\n",
      "Data columns (total 28 columns):\n",
      "Claim                                                  1979 non-null object\n",
      "Account                                                1979 non-null int64\n",
      "Application                                            1979 non-null int64\n",
      "Audio / Earphones / Speaker                            1979 non-null int64\n",
      "No Power / Auto Power-off                              1979 non-null int64\n",
      "Battery / No charging / Fast discharge                 1979 non-null int64\n",
      "Bluetooth                                              1979 non-null int64\n",
      "Calls (drop / audio quality)                           1979 non-null int64\n",
      "Camera                                                 1979 non-null int64\n",
      "Features (Settings / Contacts / Keyborad / Message)    1979 non-null int64\n",
      "Network (signal / data connection)                     1979 non-null int64\n",
      "Fingerprint sensor                                     1979 non-null int64\n",
      "Freeze / lock-up / Slowness                            1979 non-null int64\n",
      "Location / GPS                                         1979 non-null int64\n",
      "Heating                                                1979 non-null int64\n",
      "Memory / Storage / SD card                             1979 non-null int64\n",
      "Reset                                                  1979 non-null int64\n",
      "Display (image, flickering, stains, etc.)              1979 non-null int64\n",
      "SIM card                                               1979 non-null int64\n",
      "Touchscreen (no touch, ghost touch)                    1979 non-null int64\n",
      "TV                                                     1979 non-null int64\n",
      "Vibration                                              1979 non-null int64\n",
      "Wi-Fi                                                  1979 non-null int64\n",
      "Sensors (moisture, proximity, light)                   1979 non-null int64\n",
      "USB                                                    1979 non-null int64\n",
      "Hardware (broken display / keys / etc.)                1979 non-null int64\n",
      "Doubt (operation, features, specs)                     1979 non-null int64\n",
      "Others (CIC/SVC internal, etc.)                        1979 non-null int64\n",
      "dtypes: int64(27), object(1)\n",
      "memory usage: 425.2+ KB\n"
     ]
    }
   ],
   "source": [
    "df.info()"
   ]
  },
  {
   "cell_type": "code",
   "execution_count": 5,
   "metadata": {},
   "outputs": [
    {
     "data": {
      "text/html": [
       "<div>\n",
       "<style scoped>\n",
       "    .dataframe tbody tr th:only-of-type {\n",
       "        vertical-align: middle;\n",
       "    }\n",
       "\n",
       "    .dataframe tbody tr th {\n",
       "        vertical-align: top;\n",
       "    }\n",
       "\n",
       "    .dataframe thead th {\n",
       "        text-align: right;\n",
       "    }\n",
       "</style>\n",
       "<table border=\"1\" class=\"dataframe\">\n",
       "  <thead>\n",
       "    <tr style=\"text-align: right;\">\n",
       "      <th></th>\n",
       "      <th>category</th>\n",
       "      <th>number_of_claims</th>\n",
       "    </tr>\n",
       "  </thead>\n",
       "  <tbody>\n",
       "    <tr>\n",
       "      <th>0</th>\n",
       "      <td>Account</td>\n",
       "      <td>96</td>\n",
       "    </tr>\n",
       "    <tr>\n",
       "      <th>1</th>\n",
       "      <td>Application</td>\n",
       "      <td>86</td>\n",
       "    </tr>\n",
       "    <tr>\n",
       "      <th>2</th>\n",
       "      <td>Audio / Earphones / Speaker</td>\n",
       "      <td>103</td>\n",
       "    </tr>\n",
       "    <tr>\n",
       "      <th>3</th>\n",
       "      <td>No Power / Auto Power-off</td>\n",
       "      <td>328</td>\n",
       "    </tr>\n",
       "    <tr>\n",
       "      <th>4</th>\n",
       "      <td>Battery / No charging / Fast discharge</td>\n",
       "      <td>392</td>\n",
       "    </tr>\n",
       "    <tr>\n",
       "      <th>5</th>\n",
       "      <td>Bluetooth</td>\n",
       "      <td>13</td>\n",
       "    </tr>\n",
       "    <tr>\n",
       "      <th>6</th>\n",
       "      <td>Calls (drop / audio quality)</td>\n",
       "      <td>61</td>\n",
       "    </tr>\n",
       "    <tr>\n",
       "      <th>7</th>\n",
       "      <td>Camera</td>\n",
       "      <td>35</td>\n",
       "    </tr>\n",
       "    <tr>\n",
       "      <th>8</th>\n",
       "      <td>Features (Settings / Contacts / Keyborad / Mes...</td>\n",
       "      <td>68</td>\n",
       "    </tr>\n",
       "    <tr>\n",
       "      <th>9</th>\n",
       "      <td>Network (signal / data connection)</td>\n",
       "      <td>44</td>\n",
       "    </tr>\n",
       "    <tr>\n",
       "      <th>10</th>\n",
       "      <td>Fingerprint sensor</td>\n",
       "      <td>33</td>\n",
       "    </tr>\n",
       "    <tr>\n",
       "      <th>11</th>\n",
       "      <td>Freeze / lock-up / Slowness</td>\n",
       "      <td>152</td>\n",
       "    </tr>\n",
       "    <tr>\n",
       "      <th>12</th>\n",
       "      <td>Location / GPS</td>\n",
       "      <td>18</td>\n",
       "    </tr>\n",
       "    <tr>\n",
       "      <th>13</th>\n",
       "      <td>Heating</td>\n",
       "      <td>108</td>\n",
       "    </tr>\n",
       "    <tr>\n",
       "      <th>14</th>\n",
       "      <td>Memory / Storage / SD card</td>\n",
       "      <td>11</td>\n",
       "    </tr>\n",
       "    <tr>\n",
       "      <th>15</th>\n",
       "      <td>Reset</td>\n",
       "      <td>33</td>\n",
       "    </tr>\n",
       "    <tr>\n",
       "      <th>16</th>\n",
       "      <td>Display (image, flickering, stains, etc.)</td>\n",
       "      <td>204</td>\n",
       "    </tr>\n",
       "    <tr>\n",
       "      <th>17</th>\n",
       "      <td>SIM card</td>\n",
       "      <td>34</td>\n",
       "    </tr>\n",
       "    <tr>\n",
       "      <th>18</th>\n",
       "      <td>Touchscreen (no touch, ghost touch)</td>\n",
       "      <td>74</td>\n",
       "    </tr>\n",
       "    <tr>\n",
       "      <th>19</th>\n",
       "      <td>TV</td>\n",
       "      <td>10</td>\n",
       "    </tr>\n",
       "    <tr>\n",
       "      <th>20</th>\n",
       "      <td>Vibration</td>\n",
       "      <td>24</td>\n",
       "    </tr>\n",
       "    <tr>\n",
       "      <th>21</th>\n",
       "      <td>Wi-Fi</td>\n",
       "      <td>41</td>\n",
       "    </tr>\n",
       "    <tr>\n",
       "      <th>22</th>\n",
       "      <td>Sensors (moisture, proximity, light)</td>\n",
       "      <td>32</td>\n",
       "    </tr>\n",
       "    <tr>\n",
       "      <th>23</th>\n",
       "      <td>USB</td>\n",
       "      <td>9</td>\n",
       "    </tr>\n",
       "    <tr>\n",
       "      <th>24</th>\n",
       "      <td>Hardware (broken display / keys / etc.)</td>\n",
       "      <td>59</td>\n",
       "    </tr>\n",
       "    <tr>\n",
       "      <th>25</th>\n",
       "      <td>Doubt (operation, features, specs)</td>\n",
       "      <td>244</td>\n",
       "    </tr>\n",
       "    <tr>\n",
       "      <th>26</th>\n",
       "      <td>Others (CIC/SVC internal, etc.)</td>\n",
       "      <td>69</td>\n",
       "    </tr>\n",
       "  </tbody>\n",
       "</table>\n",
       "</div>"
      ],
      "text/plain": [
       "                                             category  number_of_claims\n",
       "0                                             Account                96\n",
       "1                                         Application                86\n",
       "2                         Audio / Earphones / Speaker               103\n",
       "3                           No Power / Auto Power-off               328\n",
       "4              Battery / No charging / Fast discharge               392\n",
       "5                                           Bluetooth                13\n",
       "6                        Calls (drop / audio quality)                61\n",
       "7                                              Camera                35\n",
       "8   Features (Settings / Contacts / Keyborad / Mes...                68\n",
       "9                  Network (signal / data connection)                44\n",
       "10                                 Fingerprint sensor                33\n",
       "11                        Freeze / lock-up / Slowness               152\n",
       "12                                     Location / GPS                18\n",
       "13                                            Heating               108\n",
       "14                         Memory / Storage / SD card                11\n",
       "15                                              Reset                33\n",
       "16          Display (image, flickering, stains, etc.)               204\n",
       "17                                           SIM card                34\n",
       "18                Touchscreen (no touch, ghost touch)                74\n",
       "19                                                 TV                10\n",
       "20                                          Vibration                24\n",
       "21                                              Wi-Fi                41\n",
       "22               Sensors (moisture, proximity, light)                32\n",
       "23                                                USB                 9\n",
       "24            Hardware (broken display / keys / etc.)                59\n",
       "25                 Doubt (operation, features, specs)               244\n",
       "26                    Others (CIC/SVC internal, etc.)                69"
      ]
     },
     "execution_count": 5,
     "metadata": {},
     "output_type": "execute_result"
    }
   ],
   "source": [
    "#Number of comments in each category\n",
    "\n",
    "df_symptoms = df.drop(['Claim'], axis=1)\n",
    "counts = []\n",
    "categories = list(df_symptoms.columns.values)\n",
    "for i in categories:\n",
    "    counts.append((i, df_symptoms[i].sum()))\n",
    "df_stats = pd.DataFrame(counts, columns=['category', 'number_of_claims'])\n",
    "df_stats"
   ]
  },
  {
   "cell_type": "code",
   "execution_count": 6,
   "metadata": {},
   "outputs": [
    {
     "data": {
      "text/plain": [
       "Text(0.5,0,'category')"
      ]
     },
     "execution_count": 6,
     "metadata": {},
     "output_type": "execute_result"
    },
    {
     "data": {
      "image/png": "[encoded data removed]",
      "text/plain": [
       "<Figure size 1080x360 with 1 Axes>"
      ]
     },
     "metadata": {
      "needs_background": "light"
     },
     "output_type": "display_data"
    }
   ],
   "source": [
    "df_stats.plot(x='category', y='number_of_claims', kind='bar', legend=False, grid=True, figsize=(15, 5))\n",
    "plt.title(\"Number of claims per category\")\n",
    "plt.ylabel('# of Occurrences', fontsize=12)\n",
    "plt.xlabel('category', fontsize=12)"
   ]
  },
  {
   "cell_type": "code",
   "execution_count": 7,
   "metadata": {
    "scrolled": false
   },
   "outputs": [
    {
     "data": {
      "text/plain": [
       "Text(0,0.5,'# of Occurrences')"
      ]
     },
     "execution_count": 7,
     "metadata": {},
     "output_type": "execute_result"
    },
    {
     "data": {
      "image/png": "[encoded data removed]",
      "text/plain": [
       "<Figure size 576x360 with 1 Axes>"
      ]
     },
     "metadata": {
      "needs_background": "light"
     },
     "output_type": "display_data"
    }
   ],
   "source": [
    "#Multi-Label\n",
    "#How many comments have multiple labels?\n",
    "\n",
    "rowsums = df.iloc[:,2:].sum(axis=1)\n",
    "x=rowsums.value_counts()\n",
    "\n",
    "#plot\n",
    "plt.figure(figsize=(8,5))\n",
    "ax = sns.barplot(x.index, x.values)\n",
    "plt.title(\"Multiple categories per claim\")\n",
    "plt.ylabel('# of Occurrences', fontsize=12)\n",
    "#plt.xlabel('# of categories', fontsize=12)"
   ]
  },
  {
   "cell_type": "markdown",
   "metadata": {},
   "source": [
    "Vast majority of the comment texts are not labeled.\n",
    "The distribution of the number of words in comment texts.\n"
   ]
  },
  {
   "cell_type": "code",
   "execution_count": 8,
   "metadata": {},
   "outputs": [
    {
     "data": {
      "text/plain": [
       "<matplotlib.axes._subplots.AxesSubplot at 0x4c3e750>"
      ]
     },
     "execution_count": 8,
     "metadata": {},
     "output_type": "execute_result"
    },
    {
     "data": {
      "image/png": "[encoded data removed]",
      "text/plain": [
       "<Figure size 432x288 with 1 Axes>"
      ]
     },
     "metadata": {
      "needs_background": "light"
     },
     "output_type": "display_data"
    }
   ],
   "source": [
    "lens = df.Claim.str.len()\n",
    "lens.hist(bins = np.arange(0,5000,50))"
   ]
  },
  {
   "cell_type": "markdown",
   "metadata": {},
   "source": [
    "Most of the comment text length are within 500 characters, with some outliers up to 5,000 characters long.\n"
   ]
  },
  {
   "cell_type": "code",
   "execution_count": 10,
   "metadata": {},
   "outputs": [
    {
     "name": "stdout",
     "output_type": "stream",
     "text": [
      "Percentage of comments that are not labelled:\n",
      "0\n"
     ]
    }
   ],
   "source": [
    "print('Percentage of claims that are not labelled:')\n",
    "print(len(df[(df['toxic']==0) & (df['severe_toxic']==0) & (df['obscene']==0) & (df['threat']== 0) & (df['insult']==0) & (df['identity_hate']==0)]) / len(df))"
   ]
  },
  {
   "cell_type": "markdown",
   "metadata": {},
   "source": [
    "There is no missing comment in comment text column."
   ]
  },
  {
   "cell_type": "code",
   "execution_count": 13,
   "metadata": {
    "scrolled": true
   },
   "outputs": [
    {
     "name": "stdout",
     "output_type": "stream",
     "text": [
      "Number of missing claims in Claims:\n"
     ]
    },
    {
     "data": {
      "text/plain": [
       "0"
      ]
     },
     "execution_count": 13,
     "metadata": {},
     "output_type": "execute_result"
    }
   ],
   "source": [
    "print('Number of missing claims in Claims:')\n",
    "df['Claim'].isnull().sum()"
   ]
  },
  {
   "cell_type": "markdown",
   "metadata": {},
   "source": [
    "Have a peek the first comment, the text needs clean."
   ]
  },
  {
   "cell_type": "code",
   "execution_count": null,
   "metadata": {
    "scrolled": true
   },
   "outputs": [],
   "source": [
    "df['Claim'][0]"
   ]
  },
  {
   "cell_type": "code",
   "execution_count": 10,
   "metadata": {},
   "outputs": [
    {
     "data": {
      "text/plain": [
       "['Account',\n",
       " 'Application',\n",
       " 'Audio / Earphones / Speaker',\n",
       " 'No Power / Auto Power-off',\n",
       " 'Battery / No charging / Fast discharge',\n",
       " 'Bluetooth',\n",
       " 'Calls (drop / audio quality)',\n",
       " 'Camera',\n",
       " 'Features (Settings / Contacts / Keyborad / Message)',\n",
       " 'Network (signal / data connection)',\n",
       " 'Fingerprint sensor',\n",
       " 'Freeze / lock-up / Slowness',\n",
       " 'Location / GPS',\n",
       " 'Heating',\n",
       " 'Memory / Storage / SD card',\n",
       " 'Reset',\n",
       " 'Display (image, flickering, stains, etc.)',\n",
       " 'SIM card',\n",
       " 'Touchscreen (no touch, ghost touch)',\n",
       " 'TV',\n",
       " 'Vibration',\n",
       " 'Wi-Fi',\n",
       " 'Sensors (moisture, proximity, light)',\n",
       " 'USB',\n",
       " 'Hardware (broken display / keys / etc.)',\n",
       " 'Doubt (operation, features, specs)',\n",
       " 'Others (CIC/SVC internal, etc.)']"
      ]
     },
     "execution_count": 10,
     "metadata": {},
     "output_type": "execute_result"
    }
   ],
   "source": [
    "#categories = ['toxic', 'severe_toxic', 'obscene', 'threat', 'insult', 'identity_hate']\n",
    "categories"
   ]
  },
  {
   "cell_type": "markdown",
   "metadata": {},
   "source": [
    "Create a function to clean the text"
   ]
  },
  {
   "cell_type": "code",
   "execution_count": 14,
   "metadata": {},
   "outputs": [],
   "source": [
    "tfidf = TfidfVectorizer(sublinear_tf=True, min_df=5, norm='l2', encoding='utf-8', ngram_range=(1, 2), lowercase=True, stop_words=stopwords_cust, strip_accents='unicode')\n",
    "\n",
    "features = tfidf.fit_transform(df.Texto).toarray()\n",
    "labels = df.category_id\n",
    "features.shape"
   ]
  },
  {
   "cell_type": "markdown",
   "metadata": {},
   "source": [
    "Clean up comment_text column"
   ]
  },
  {
   "cell_type": "code",
   "execution_count": 15,
   "metadata": {},
   "outputs": [],
   "source": [
    "df['comment_text'] = df['comment_text'].map(lambda com : clean_text(com))"
   ]
  },
  {
   "cell_type": "code",
   "execution_count": 16,
   "metadata": {},
   "outputs": [
    {
     "data": {
      "text/plain": [
       "u'explanation why the edits made under my username hardcore metallica fan were reverted they were not vandalisms just closure on some gas after i voted at new york dolls fac and please do not remove the template from the talk page since i am retired now 89 205 38 27'"
      ]
     },
     "execution_count": 16,
     "metadata": {},
     "output_type": "execute_result"
    }
   ],
   "source": [
    "df['comment_text'][0]"
   ]
  },
  {
   "cell_type": "markdown",
   "metadata": {},
   "source": [
    "Split to train and test sets"
   ]
  },
  {
   "cell_type": "code",
   "execution_count": 11,
   "metadata": {},
   "outputs": [],
   "source": [
    "train, test = train_test_split(df, random_state=42, test_size=0.33, shuffle=True)"
   ]
  },
  {
   "cell_type": "code",
   "execution_count": 12,
   "metadata": {},
   "outputs": [
    {
     "name": "stdout",
     "output_type": "stream",
     "text": [
      "(1325,)\n",
      "(654,)\n"
     ]
    }
   ],
   "source": [
    "X_train = train.Claim\n",
    "X_test = test.Claim\n",
    "print(X_train.shape)\n",
    "print(X_test.shape)"
   ]
  },
  {
   "cell_type": "markdown",
   "metadata": {},
   "source": [
    "Pipeline\n",
    "scikit-learn provides a Pipeline utility to help automate machine learning workflows. Pipelines are very common in Machine Learning systems, since there is a lot of data to manipulate and many data transformations to apply. So we will utilize pipeline to train every classifier.\n",
    "\n",
    "OneVsRest multilabel strategy\n",
    "The Multi-label algorithm accepts a binary mask over multiple labels. The result for each prediction will be an array of 0s and 1s marking which class labels apply to each row input sample.\n",
    "\n",
    "Naive Bayes\n",
    "OneVsRest strategy can be used for multilabel learning, where a classifier is used to predict multiple labels for instance. Naive Bayes supports multi-class, but we are in a multi-label scenario, therefore, we wrapp Naive Bayes in the OneVsRestClassifier.\n"
   ]
  },
  {
   "cell_type": "code",
   "execution_count": 19,
   "metadata": {},
   "outputs": [],
   "source": [
    "# Define a pipeline combining a text feature extractor with multi lable classifier\n",
    "NB_pipeline = Pipeline([\n",
    "                ('tfidf', TfidfVectorizer(stop_words=stop_words)),\n",
    "                ('clf', OneVsRestClassifier(MultinomialNB(\n",
    "                    fit_prior=True, class_prior=None))),\n",
    "            ])"
   ]
  },
  {
   "cell_type": "code",
   "execution_count": 20,
   "metadata": {},
   "outputs": [
    {
     "name": "stdout",
     "output_type": "stream",
     "text": [
      "... Processing toxic\n",
      "Test accuracy is 0.919576900435\n",
      "... Processing severe_toxic\n",
      "Test accuracy is 0.990011204163\n",
      "... Processing obscene\n",
      "Test accuracy is 0.95165118973\n",
      "... Processing threat\n",
      "Test accuracy is 0.997113503864\n",
      "... Processing insult\n",
      "Test accuracy is 0.951784120473\n",
      "... Processing identity_hate\n",
      "Test accuracy is 0.991055660001\n"
     ]
    }
   ],
   "source": [
    "for category in categories:\n",
    "    print('... Processing {}'.format(category))\n",
    "    # train the model using X_dtm & y\n",
    "    NB_pipeline.fit(X_train, train[category])\n",
    "    # compute the testing accuracy\n",
    "    prediction = NB_pipeline.predict(X_test)\n",
    "    print('Test accuracy is {}'.format(accuracy_score(test[category], prediction)))"
   ]
  },
  {
   "cell_type": "code",
   "execution_count": 18,
   "metadata": {},
   "outputs": [],
   "source": [
    "SVC_pipeline = Pipeline([\n",
    "                ('tfidf', TfidfVectorizer(sublinear_tf=True, min_df=5, norm='l2', encoding='utf-8', analyzer='word', ngram_range=(1, 2), lowercase=True, stop_words=stopwords_cust, strip_accents='unicode')),\n",
    "                ('clf', OneVsRestClassifier(LinearSVC(), n_jobs=1)),\n",
    "            ])"
   ]
  },
  {
   "cell_type": "code",
   "execution_count": 21,
   "metadata": {},
   "outputs": [
    {
     "name": "stdout",
     "output_type": "stream",
     "text": [
      "... Processing Account\n",
      "Test accuracy is 0.966360856269\n",
      "... Processing Application\n",
      "Test accuracy is 0.95871559633\n",
      "... Processing Audio / Earphones / Speaker\n",
      "Test accuracy is 0.957186544343\n",
      "... Processing No Power / Auto Power-off\n",
      "Test accuracy is 0.922018348624\n",
      "... Processing Battery / No charging / Fast discharge\n",
      "Test accuracy is 0.937308868502\n",
      "... Processing Bluetooth\n",
      "Test accuracy is 0.989296636086\n",
      "... Processing Calls (drop / audio quality)\n",
      "Test accuracy is 0.980122324159\n",
      "... Processing Camera\n",
      "Test accuracy is 0.992354740061\n",
      "... Processing Features (Settings / Contacts / Keyborad / Message)\n",
      "Test accuracy is 0.967889908257\n",
      "... Processing Network (signal / data connection)\n",
      "Test accuracy is 0.987767584098\n",
      "... Processing Fingerprint sensor\n",
      "Test accuracy is 0.983180428135\n",
      "... Processing Freeze / lock-up / Slowness\n",
      "Test accuracy is 0.95871559633\n",
      "... Processing Location / GPS\n",
      "Test accuracy is 0.990825688073\n",
      "... Processing Heating\n",
      "Test accuracy is 0.957186544343\n",
      "... Processing Memory / Storage / SD card\n",
      "Test accuracy is 0.996941896024\n",
      "... Processing Reset\n",
      "Test accuracy is 0.980122324159\n",
      "... Processing Display (image, flickering, stains, etc.)\n",
      "Test accuracy is 0.928134556575\n",
      "... Processing SIM card\n",
      "Test accuracy is 0.989296636086\n",
      "... Processing Touchscreen (no touch, ghost touch)\n",
      "Test accuracy is 0.963302752294\n",
      "... Processing TV\n",
      "Test accuracy is 0.995412844037\n",
      "... Processing Vibration\n",
      "Test accuracy is 0.990825688073\n",
      "... Processing Wi-Fi\n",
      "Test accuracy is 0.993883792049\n",
      "... Processing Sensors (moisture, proximity, light)\n",
      "Test accuracy is 0.978593272171\n",
      "... Processing USB\n",
      "Test accuracy is 0.992354740061\n",
      "... Processing Hardware (broken display / keys / etc.)\n",
      "Test accuracy is 0.978593272171\n",
      "... Processing Doubt (operation, features, specs)\n",
      "Test accuracy is 0.917431192661\n",
      "... Processing Others (CIC/SVC internal, etc.)\n",
      "Test accuracy is 0.980122324159\n"
     ]
    }
   ],
   "source": [
    "for category in categories:\n",
    "    print('... Processing {}'.format(category))\n",
    "    # train the model using X_dtm & y\n",
    "    SVC_pipeline.fit(X_train, train[category])\n",
    "    # compute the testing accuracy\n",
    "    prediction = SVC_pipeline.predict(X_test)\n",
    "    print('Test accuracy is {}'.format(accuracy_score(test[category], prediction)))"
   ]
  },
  {
   "cell_type": "code",
   "execution_count": 23,
   "metadata": {
    "scrolled": true
   },
   "outputs": [
    {
     "name": "stdout",
     "output_type": "stream",
     "text": [
      "... Processing toxic\n",
      "Test accuracy is 0.954917487989\n",
      "... Processing severe_toxic\n",
      "Test accuracy is 0.991055660001\n",
      "... Processing obscene\n",
      "Test accuracy is 0.976091456351\n",
      "... Processing threat\n",
      "Test accuracy is 0.997360375244\n",
      "... Processing insult\n",
      "Test accuracy is 0.968742285269\n",
      "... Processing identity_hate\n",
      "Test accuracy is 0.991758293929\n"
     ]
    }
   ],
   "source": [
    "LogReg_pipeline = Pipeline([\n",
    "                ('tfidf', TfidfVectorizer(stop_words=stop_words)),\n",
    "                ('clf', OneVsRestClassifier(LogisticRegression(solver='sag'), n_jobs=1)),\n",
    "            ])\n",
    "for category in categories:\n",
    "    print('... Processing {}'.format(category))\n",
    "    # train the model using X_dtm & y\n",
    "    LogReg_pipeline.fit(X_train, train[category])\n",
    "    # compute the testing accuracy\n",
    "    prediction = LogReg_pipeline.predict(X_test)\n",
    "    print('Test accuracy is {}'.format(accuracy_score(test[category], prediction)))"
   ]
  },
  {
   "cell_type": "code",
   "execution_count": null,
   "metadata": {
    "scrolled": true
   },
   "outputs": [],
   "source": [
    "df_new = pd.read_excel('C:\\Users\\marcel.massa.LGE\\ML\\CIC Call Receiving Rate.xls')\n",
    "df_new.head()"
   ]
  },
  {
   "cell_type": "code",
   "execution_count": 15,
   "metadata": {},
   "outputs": [
    {
     "name": "stdout",
     "output_type": "stream",
     "text": [
      "... Processing Account\n",
      "... Processing Application\n",
      "... Processing Audio / Earphones / Speaker\n",
      "... Processing No Power / Auto Power-off\n",
      "... Processing Battery / No charging / Fast discharge\n",
      "... Processing Bluetooth\n",
      "... Processing Calls (drop / audio quality)\n",
      "... Processing Camera\n",
      "... Processing Features (Settings / Contacts / Keyborad / Message)\n",
      "... Processing Network (signal / data connection)\n",
      "... Processing Fingerprint sensor\n",
      "... Processing Freeze / lock-up / Slowness\n",
      "... Processing Location / GPS\n",
      "... Processing Heating\n",
      "... Processing Memory / Storage / SD card\n",
      "... Processing Reset\n",
      "... Processing Display (image, flickering, stains, etc.)\n",
      "... Processing SIM card\n",
      "... Processing Touchscreen (no touch, ghost touch)\n",
      "... Processing TV\n",
      "... Processing Vibration\n",
      "... Processing Wi-Fi\n",
      "... Processing Sensors (moisture, proximity, light)\n",
      "... Processing USB\n",
      "... Processing Hardware (broken display / keys / etc.)\n",
      "... Processing Doubt (operation, features, specs)\n",
      "... Processing Others (CIC/SVC internal, etc.)\n"
     ]
    }
   ],
   "source": [
    "for category in categories:\n",
    "    print('... Processing {}'.format(category))\n",
    "    # train the model using X_dtm & y\n",
    "    SVC_pipeline.fit(df.Claim, df[category])\n",
    "    # compute the testing accuracy\n",
    "    prediction_new = SVC_pipeline.predict(df_new.loc[: ,\"Consultation Content\"])\n",
    "    # print('Test accuracy is {}'.format(accuracy_score(test[category], prediction)))\n",
    "    df_new[category] = prediction_new"
   ]
  },
  {
   "cell_type": "code",
   "execution_count": null,
   "metadata": {
    "scrolled": true
   },
   "outputs": [],
   "source": [
    "df_new.head()"
   ]
  },
  {
   "cell_type": "code",
   "execution_count": 17,
   "metadata": {},
   "outputs": [],
   "source": [
    "df_new.to_excel('C:\\Users\\marcel.massa.LGE\\ML\\CIC Call Receiving Rate_MULTI_LABEL_PREDICTED.xlsx')"
   ]
  },
  {
   "cell_type": "code",
   "execution_count": null,
   "metadata": {},
   "outputs": [],
   "source": []
  }
 ],
 "metadata": {
  "kernelspec": {
   "display_name": "Python 2",
   "language": "python",
   "name": "python2"
  },
  "language_info": {
   "codemirror_mode": {
    "name": "ipython",
    "version": 2
   },
   "file_extension": ".py",
   "mimetype": "text/x-python",
   "name": "python",
   "nbconvert_exporter": "python",
   "pygments_lexer": "ipython2",
   "version": "2.7.15"
  }
 },
 "nbformat": 4,
 "nbformat_minor": 2
}
