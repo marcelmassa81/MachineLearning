{
 "cells": [
  {
   "cell_type": "code",
   "execution_count": null,
   "metadata": {},
   "outputs": [],
   "source": [
    "%matplotlib inline\n",
    "import re\n",
    "#import matplotlib\n",
    "import numpy as np\n",
    "#import matplotlib.pyplot as plt\n",
    "import pandas as pd\n",
    "#from sklearn.model_selection import train_test_split\n",
    "from sklearn.feature_extraction.text import TfidfVectorizer\n",
    "#from sklearn.naive_bayes import MultinomialNB\n",
    "#from sklearn.metrics import accuracy_score\n",
    "#from sklearn.multiclass import OneVsRestClassifier\n",
    "from nltk.corpus import stopwords\n",
    "from nltk.tokenize import word_tokenize\n",
    "from nltk.tokenize.treebank import TreebankWordDetokenizer\n",
    "#stop_words = set(stopwords.words('english'))\n",
    "from sklearn.svm import LinearSVC\n",
    "#from sklearn.linear_model import LogisticRegression\n",
    "#from sklearn.ensemble import RandomForestClassifier\n",
    "#from sklearn.linear_model import PassiveAggressiveClassifier\n",
    "#from sklearn.pipeline import Pipeline\n",
    "from sklearn.feature_selection import chi2\n",
    "#import seaborn as sns\n",
    "import unidecode\n"
   ]
  },
  {
   "cell_type": "code",
   "execution_count": null,
   "metadata": {},
   "outputs": [],
   "source": [
    "stopwords_cust = stopwords.words('portuguese')\n",
    "\n",
    "df_swc = pd.read_excel('C:\\Users\\marcel.massa.LGE\\ML\\stop_words_customized.xlsx')\n",
    "\n",
    "# STOP_WORDS_CUSTOMIZED is the name of the column in the Excel file\n",
    "\n",
    "df_swc.STOP_WORDS_CUSTOMIZED = df_swc.STOP_WORDS_CUSTOMIZED.str.normalize('NFKD').str.encode('ascii', errors='ignore').str.decode('utf-8').str.lower()\n",
    "for count in range (df_swc.shape[0]):\n",
    "    stopwords_cust.append(df_swc.STOP_WORDS_CUSTOMIZED[count])\n"
   ]
  },
  {
   "cell_type": "code",
   "execution_count": null,
   "metadata": {
    "scrolled": false
   },
   "outputs": [],
   "source": [
    "# Opening training data\n",
    "\n",
    "df_TD = pd.read_excel('C:\\\\Users\\\\marcel.massa.LGE\\\\ML\\\\train_multilabel_NEW.xlsx')"
   ]
  },
  {
   "cell_type": "code",
   "execution_count": null,
   "metadata": {},
   "outputs": [],
   "source": [
    "# Creating list of Symptoms (categories - the lables of multi-label)\n",
    "# This is needed further ahead, but it could be done in a smarter way.\n",
    "\n",
    "df_symptoms = df_TD.drop(['Claim'], axis=1)\n",
    "categories = list(df_symptoms.columns.values)"
   ]
  },
  {
   "cell_type": "code",
   "execution_count": null,
   "metadata": {},
   "outputs": [],
   "source": [
    "#Vectorizing the text values (Claim) from Training Data\n",
    "\n",
    "vectorizer = TfidfVectorizer(sublinear_tf=True, min_df=5, encoding='utf-8', strip_accents='unicode', ngram_range=(1,2), norm='l2', lowercase=True, stop_words=stopwords_cust)\n",
    "\n",
    "features = vectorizer.fit_transform(df_TD.Claim)\n",
    "print(features.shape)"
   ]
  },
  {
   "cell_type": "code",
   "execution_count": null,
   "metadata": {
    "scrolled": true
   },
   "outputs": [],
   "source": [
    "#Opening the data to be predicted\n",
    "\n",
    "df_Data = pd.read_excel('C:\\Users\\marcel.massa.LGE\\ML\\CIC Call Receiving Rate_120515012.xls', header=1)\n",
    "df_Data.head()"
   ]
  },
  {
   "cell_type": "code",
   "execution_count": null,
   "metadata": {},
   "outputs": [],
   "source": [
    "#Vectorizing the text values (Consultation Content) from new Data\n",
    "\n",
    "features_Data = vectorizer.transform(df_Data.loc[: ,\"Consultation Content\"])\n",
    "print(features_Data.shape)"
   ]
  },
  {
   "cell_type": "code",
   "execution_count": null,
   "metadata": {},
   "outputs": [],
   "source": [
    "# If you're not using it for Power BI, SKIP THIS! It takes a while to run...\n",
    "\n",
    "# Creating a series with \"clean text\" (tokenize, lowercase, strip accents, remove stopwords, de-tokenize)\n",
    "# to be added to final Excel file and used in Word Cloud of Power BI dashboard.\n",
    "\n",
    "list_tokens = pd.Series(df_Data.loc[: ,\"Consultation Content\"], name='Tokens').str.lower().tolist()\n",
    "list_CleanText = []\n",
    "\n",
    "for string in list_tokens: \n",
    "    tokens = word_tokenize(unidecode.unidecode(string))\n",
    "    clean_tokens = [w for w in tokens if not w in stopwords_cust]\n",
    "    list_CleanText.append(TreebankWordDetokenizer().detokenize(clean_tokens))\n",
    "\n",
    "series_CleanText = pd.Series(list_CleanText, name='Texto_Limpo')\n",
    "print('... [DONE]')"
   ]
  },
  {
   "cell_type": "code",
   "execution_count": null,
   "metadata": {},
   "outputs": [],
   "source": [
    "from skmultilearn.problem_transform import ClassifierChain\n",
    "classifier = ClassifierChain(LinearSVC())\n",
    "\n",
    "# Training LinearSVC model on training data\n",
    "classifier.fit(features, df_TD.drop(labels = ['Claim'], axis=1))\n",
    "\n",
    "# Predicting\n",
    "predictions = classifier.predict(features_Data).toarray()\n",
    "predictions.shape\n",
    "\n",
    "# Turning predictions array into a dataframe, to be concatenated to original dataframe with the source data.\n",
    "df_predictions = pd.DataFrame(predictions, columns=categories)\n",
    "df_predictions.head()"
   ]
  },
  {
   "cell_type": "code",
   "execution_count": null,
   "metadata": {},
   "outputs": [],
   "source": [
    "# Concatenating dataframes (original, clean text, predictions)\n",
    "\n",
    "df_Final = pd.concat([df_Data, series_CleanText.to_frame(), df_predictions], axis=1)\n",
    "df_Final.head()"
   ]
  },
  {
   "cell_type": "code",
   "execution_count": null,
   "metadata": {},
   "outputs": [],
   "source": [
    "# Recording the final dataframe to a new Excel file.\n",
    "# This is the end of the classification process.\n",
    "\n",
    "df_Final.to_excel('C:\\Users\\marcel.massa.LGE\\ML\\CIC Call Receiving Rate_MULTI_LABEL_2_PREDICTED.xlsx')"
   ]
  },
  {
   "cell_type": "code",
   "execution_count": null,
   "metadata": {},
   "outputs": [],
   "source": [
    "# OPTIONAL STEP\n",
    "# This is only to analyze the most common unigrams and bigrams for each symptom, from the training dataset.\n",
    "\n",
    "N = 5\n",
    "for i in categories:\n",
    "    features_chi2 = chi2(features, df_TD[i] )\n",
    "    indices = np.argsort(features_chi2[0])\n",
    "    feature_names = np.array(vectorizer.get_feature_names())[indices]\n",
    "    unigrams = [v for v in feature_names if len(v.split(' ')) == 1]\n",
    "    bigrams = [v for v in feature_names if len(v.split(' ')) == 2]\n",
    "    print(\"# '{}':\".format(i))\n",
    "    print(\"  . Most correlated unigrams:\\n       . {}\".format('\\n       . '.join(unigrams[-N:]).encode('utf-8')))\n",
    "    print(\"  . Most correlated bigrams:\\n       . {}\".format('\\n       . '.join(bigrams[-N:]).encode('utf-8')))"
   ]
  }
 ],
 "metadata": {
  "kernelspec": {
   "display_name": "Python 2",
   "language": "python",
   "name": "python2"
  },
  "language_info": {
   "codemirror_mode": {
    "name": "ipython",
    "version": 2
   },
   "file_extension": ".py",
   "mimetype": "text/x-python",
   "name": "python",
   "nbconvert_exporter": "python",
   "pygments_lexer": "ipython2",
   "version": "2.7.15"
  }
 },
 "nbformat": 4,
 "nbformat_minor": 2
}
